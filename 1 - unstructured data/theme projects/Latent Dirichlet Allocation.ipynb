{
 "cells": [
  {
   "cell_type": "markdown",
   "metadata": {},
   "source": [
    "# Finding Themes in Project Descriptions"
   ]
  },
  {
   "cell_type": "markdown",
   "metadata": {},
   "source": [
    "**Instructor:** Tamara Broderick\n",
    "\n",
    "**Case Study Description:** Using Latent Dirichlet Allocation to discover topics in a corpus of text. Fminding Themes in Project Descriptions - LDA Analysis.\n",
    "\n",
    "**Self-Help Documentation:** In [this document](https://courses.xpro.mit.edu/assets/courseware/v1/ae21d60a3a98dc2bb319788053f11002/asset-v1:xPRO+DSx+R13+type@asset+block/Module1_CS1.1_PCA.pdf), we walk through some tips to help you with doing your own analysis on MIT EECS faculty data using stochastic variational inference on LDA"
   ]
  },
  {
   "cell_type": "code",
   "execution_count": null,
   "metadata": {},
   "outputs": [],
   "source": []
  },
  {
   "cell_type": "markdown",
   "metadata": {},
   "source": [
    "# 1. Scrapping the dataset"
   ]
  },
  {
   "cell_type": "code",
   "execution_count": null,
   "metadata": {},
   "outputs": [],
   "source": []
  }
 ],
 "metadata": {
  "kernelspec": {
   "display_name": "mitxpro",
   "language": "python",
   "name": "mitxpro"
  },
  "language_info": {
   "codemirror_mode": {
    "name": "ipython",
    "version": 3
   },
   "file_extension": ".py",
   "mimetype": "text/x-python",
   "name": "python",
   "nbconvert_exporter": "python",
   "pygments_lexer": "ipython3",
   "version": "3.7.4"
  }
 },
 "nbformat": 4,
 "nbformat_minor": 2
}
