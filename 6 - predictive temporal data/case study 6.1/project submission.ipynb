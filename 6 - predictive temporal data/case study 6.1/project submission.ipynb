{
 "cells": [
  {
   "cell_type": "markdown",
   "metadata": {
    "collapsed": true
   },
   "source": [
    "# Case Study 6.1 - NYC Taxi Trips"
   ]
  },
  {
   "cell_type": "markdown",
   "metadata": {},
   "source": [
    "# ADVANCED PYTHON"
   ]
  },
  {
   "cell_type": "markdown",
   "metadata": {},
   "source": [
    "As this is an advanced version, we don't include a lot of code here. If you get stuck on a particular part, feel free to also use the beginner version in `beginnner_python.ipynb` to help you out.\n",
    "\n",
    "If you don't know your MITx username, you can create a test post [here](https://courses.xpro.mit.edu/courses/course-v1:xPRO+DSx+R11/discussion/forum/general/threads/5db91a5c59a54c4eb6000031) to find it."
   ]
  },
  {
   "cell_type": "markdown",
   "metadata": {},
   "source": [
    "# Identification Information"
   ]
  },
  {
   "cell_type": "code",
   "execution_count": 1,
   "metadata": {},
   "outputs": [],
   "source": [
    "# YOUR NAME              = Manuel Montoya\n",
    "# YOUR MITX PRO USERNAME = manuel-montoya-gamio\n",
    "# YOUR MITX PRO E-MAIL   = manuel.montoya@pucp.edu.pe"
   ]
  },
  {
   "cell_type": "markdown",
   "metadata": {},
   "source": [
    "# Setup"
   ]
  },
  {
   "cell_type": "markdown",
   "metadata": {},
   "source": [
    "Run these cells to install all the packages you need to complete the remainder of the case study. This may take a few minutes, so please be patient."
   ]
  },
  {
   "cell_type": "code",
   "execution_count": 2,
   "metadata": {},
   "outputs": [],
   "source": [
    "# !pip install --upgrade pip\n",
    "# !pip install featuretools==0.1.19\n",
    "# !pip install pandas==0.20.3"
   ]
  },
  {
   "cell_type": "markdown",
   "metadata": {},
   "source": [
    "# Import"
   ]
  },
  {
   "cell_type": "code",
   "execution_count": 3,
   "metadata": {},
   "outputs": [],
   "source": [
    "import featuretools as ft\n",
    "import matplotlib\n",
    "import numpy as np\n",
    "import pandas as pd\n",
    "import utils\n",
    "from featuretools.primitives import (Count, Day, Hour, Max, Mean, Median, Min,\n",
    "                                     Minute, Month, Std, Sum, Week, Weekday,\n",
    "                                     Weekend)\n",
    "from sklearn.ensemble import GradientBoostingRegressor\n",
    "from utils import (compute_features, feature_importances, load_nyc_taxi_data,\n",
    "                   preview)\n",
    "import seaborn"
   ]
  },
  {
   "cell_type": "code",
   "execution_count": 4,
   "metadata": {},
   "outputs": [],
   "source": [
    "import warnings\n",
    "warnings.filterwarnings('ignore')"
   ]
  },
  {
   "cell_type": "code",
   "execution_count": 5,
   "metadata": {},
   "outputs": [],
   "source": [
    "from sklearn.metrics import mean_squared_error\n",
    "from sklearn.metrics import r2_score"
   ]
  },
  {
   "cell_type": "code",
   "execution_count": 6,
   "metadata": {},
   "outputs": [],
   "source": [
    "%matplotlib inline"
   ]
  },
  {
   "cell_type": "code",
   "execution_count": 7,
   "metadata": {},
   "outputs": [
    {
     "name": "stdout",
     "output_type": "stream",
     "text": [
      "pandas:  0.20.3\n",
      "featuretools:  0.1.19\n"
     ]
    }
   ],
   "source": [
    "#Checking for correct packages versiones\n",
    "\n",
    "print(\"pandas: \", pd.__version__)\n",
    "print(\"featuretools: \", ft.__version__)"
   ]
  },
  {
   "cell_type": "markdown",
   "metadata": {},
   "source": [
    "# Data"
   ]
  },
  {
   "cell_type": "markdown",
   "metadata": {},
   "source": [
    "- Use `load_nyc_taxi_data` to get the data.\n",
    "- Use `preview` to preview the data.\n",
    "- Create a histogram of the `trip_duration` column of the `trips` table."
   ]
  },
  {
   "cell_type": "code",
   "execution_count": 8,
   "metadata": {},
   "outputs": [],
   "source": [
    "# Your code here to load, preview and visualize data\n",
    "trips, pickup_neighborhoods, dropoff_neighborhoods = load_nyc_taxi_data()"
   ]
  },
  {
   "cell_type": "code",
   "execution_count": 9,
   "metadata": {},
   "outputs": [
    {
     "data": {
      "text/html": [
       "<div>\n",
       "<style>\n",
       "    .dataframe thead tr:only-child th {\n",
       "        text-align: right;\n",
       "    }\n",
       "\n",
       "    .dataframe thead th {\n",
       "        text-align: left;\n",
       "    }\n",
       "\n",
       "    .dataframe tbody tr th {\n",
       "        vertical-align: top;\n",
       "    }\n",
       "</style>\n",
       "<table class=\"dataframe\">\n",
       "  <thead>\n",
       "    <tr style=\"text-align: right;\">\n",
       "      <th></th>\n",
       "      <th>id</th>\n",
       "      <th>vendor_id</th>\n",
       "      <th>pickup_datetime</th>\n",
       "      <th>dropoff_datetime</th>\n",
       "      <th>passenger_count</th>\n",
       "      <th>trip_distance</th>\n",
       "      <th>pickup_longitude</th>\n",
       "      <th>pickup_latitude</th>\n",
       "      <th>dropoff_longitude</th>\n",
       "      <th>dropoff_latitude</th>\n",
       "      <th>payment_type</th>\n",
       "      <th>trip_duration</th>\n",
       "      <th>pickup_neighborhood</th>\n",
       "      <th>dropoff_neighborhood</th>\n",
       "    </tr>\n",
       "  </thead>\n",
       "  <tbody>\n",
       "    <tr>\n",
       "      <th>0</th>\n",
       "      <td>514030</td>\n",
       "      <td>2</td>\n",
       "      <td>2016-04-02 00:00:00</td>\n",
       "      <td>2016-04-02 00:17:00</td>\n",
       "      <td>1</td>\n",
       "      <td>2.46</td>\n",
       "      <td>-73.987595</td>\n",
       "      <td>40.754711</td>\n",
       "      <td>-73.959633</td>\n",
       "      <td>40.762836</td>\n",
       "      <td>1</td>\n",
       "      <td>1039</td>\n",
       "      <td>AA</td>\n",
       "      <td>K</td>\n",
       "    </tr>\n",
       "    <tr>\n",
       "      <th>1</th>\n",
       "      <td>514031</td>\n",
       "      <td>1</td>\n",
       "      <td>2016-04-02 00:00:00</td>\n",
       "      <td>2016-04-02 00:24:00</td>\n",
       "      <td>2</td>\n",
       "      <td>7.90</td>\n",
       "      <td>-73.924713</td>\n",
       "      <td>40.745567</td>\n",
       "      <td>-73.972763</td>\n",
       "      <td>40.793354</td>\n",
       "      <td>1</td>\n",
       "      <td>1454</td>\n",
       "      <td>L</td>\n",
       "      <td>U</td>\n",
       "    </tr>\n",
       "    <tr>\n",
       "      <th>2</th>\n",
       "      <td>514032</td>\n",
       "      <td>1</td>\n",
       "      <td>2016-04-02 00:00:00</td>\n",
       "      <td>2016-04-02 00:19:00</td>\n",
       "      <td>1</td>\n",
       "      <td>1.00</td>\n",
       "      <td>-73.989800</td>\n",
       "      <td>40.732994</td>\n",
       "      <td>-74.000557</td>\n",
       "      <td>40.742622</td>\n",
       "      <td>1</td>\n",
       "      <td>1168</td>\n",
       "      <td>H</td>\n",
       "      <td>Q</td>\n",
       "    </tr>\n",
       "    <tr>\n",
       "      <th>3</th>\n",
       "      <td>514033</td>\n",
       "      <td>2</td>\n",
       "      <td>2016-04-02 00:00:00</td>\n",
       "      <td>2016-04-02 00:01:00</td>\n",
       "      <td>1</td>\n",
       "      <td>0.02</td>\n",
       "      <td>-73.987465</td>\n",
       "      <td>40.719822</td>\n",
       "      <td>-73.987289</td>\n",
       "      <td>40.720016</td>\n",
       "      <td>2</td>\n",
       "      <td>35</td>\n",
       "      <td>AC</td>\n",
       "      <td>AC</td>\n",
       "    </tr>\n",
       "    <tr>\n",
       "      <th>4</th>\n",
       "      <td>514034</td>\n",
       "      <td>1</td>\n",
       "      <td>2016-04-02 00:01:00</td>\n",
       "      <td>2016-04-02 00:58:00</td>\n",
       "      <td>2</td>\n",
       "      <td>19.00</td>\n",
       "      <td>-73.790131</td>\n",
       "      <td>40.643429</td>\n",
       "      <td>-73.975594</td>\n",
       "      <td>40.779327</td>\n",
       "      <td>1</td>\n",
       "      <td>3470</td>\n",
       "      <td>G</td>\n",
       "      <td>I</td>\n",
       "    </tr>\n",
       "  </tbody>\n",
       "</table>\n",
       "</div>"
      ],
      "text/plain": [
       "       id  vendor_id     pickup_datetime    dropoff_datetime  passenger_count  \\\n",
       "0  514030          2 2016-04-02 00:00:00 2016-04-02 00:17:00                1   \n",
       "1  514031          1 2016-04-02 00:00:00 2016-04-02 00:24:00                2   \n",
       "2  514032          1 2016-04-02 00:00:00 2016-04-02 00:19:00                1   \n",
       "3  514033          2 2016-04-02 00:00:00 2016-04-02 00:01:00                1   \n",
       "4  514034          1 2016-04-02 00:01:00 2016-04-02 00:58:00                2   \n",
       "\n",
       "   trip_distance  pickup_longitude  pickup_latitude  dropoff_longitude  \\\n",
       "0           2.46        -73.987595        40.754711         -73.959633   \n",
       "1           7.90        -73.924713        40.745567         -73.972763   \n",
       "2           1.00        -73.989800        40.732994         -74.000557   \n",
       "3           0.02        -73.987465        40.719822         -73.987289   \n",
       "4          19.00        -73.790131        40.643429         -73.975594   \n",
       "\n",
       "   dropoff_latitude payment_type  trip_duration pickup_neighborhood  \\\n",
       "0         40.762836            1           1039                  AA   \n",
       "1         40.793354            1           1454                   L   \n",
       "2         40.742622            1           1168                   H   \n",
       "3         40.720016            2             35                  AC   \n",
       "4         40.779327            1           3470                   G   \n",
       "\n",
       "  dropoff_neighborhood  \n",
       "0                    K  \n",
       "1                    U  \n",
       "2                    Q  \n",
       "3                   AC  \n",
       "4                    I  "
      ]
     },
     "execution_count": 9,
     "metadata": {},
     "output_type": "execute_result"
    }
   ],
   "source": [
    "#complete trips for taxis, pickpup and dropoff are defined as (longitude, latitude) pairs\n",
    "preview(trips, 5)"
   ]
  },
  {
   "cell_type": "code",
   "execution_count": 10,
   "metadata": {},
   "outputs": [
    {
     "data": {
      "text/html": [
       "<div>\n",
       "<style>\n",
       "    .dataframe thead tr:only-child th {\n",
       "        text-align: right;\n",
       "    }\n",
       "\n",
       "    .dataframe thead th {\n",
       "        text-align: left;\n",
       "    }\n",
       "\n",
       "    .dataframe tbody tr th {\n",
       "        vertical-align: top;\n",
       "    }\n",
       "</style>\n",
       "<table class=\"dataframe\">\n",
       "  <thead>\n",
       "    <tr style=\"text-align: right;\">\n",
       "      <th></th>\n",
       "      <th>neighborhood_id</th>\n",
       "      <th>latitude</th>\n",
       "      <th>longitude</th>\n",
       "    </tr>\n",
       "  </thead>\n",
       "  <tbody>\n",
       "    <tr>\n",
       "      <th>0</th>\n",
       "      <td>AH</td>\n",
       "      <td>40.804349</td>\n",
       "      <td>-73.961716</td>\n",
       "    </tr>\n",
       "    <tr>\n",
       "      <th>1</th>\n",
       "      <td>Z</td>\n",
       "      <td>40.715828</td>\n",
       "      <td>-73.954298</td>\n",
       "    </tr>\n",
       "    <tr>\n",
       "      <th>2</th>\n",
       "      <td>D</td>\n",
       "      <td>40.750179</td>\n",
       "      <td>-73.992557</td>\n",
       "    </tr>\n",
       "    <tr>\n",
       "      <th>3</th>\n",
       "      <td>AT</td>\n",
       "      <td>40.729670</td>\n",
       "      <td>-73.981693</td>\n",
       "    </tr>\n",
       "    <tr>\n",
       "      <th>4</th>\n",
       "      <td>AG</td>\n",
       "      <td>40.749843</td>\n",
       "      <td>-74.003458</td>\n",
       "    </tr>\n",
       "  </tbody>\n",
       "</table>\n",
       "</div>"
      ],
      "text/plain": [
       "  neighborhood_id   latitude  longitude\n",
       "0              AH  40.804349 -73.961716\n",
       "1               Z  40.715828 -73.954298\n",
       "2               D  40.750179 -73.992557\n",
       "3              AT  40.729670 -73.981693\n",
       "4              AG  40.749843 -74.003458"
      ]
     },
     "execution_count": 10,
     "metadata": {},
     "output_type": "execute_result"
    }
   ],
   "source": [
    "#mapping of latitude, longitude to neiborhood_ids for pickup neiborhoods\n",
    "preview(pickup_neighborhoods, 5)"
   ]
  },
  {
   "cell_type": "code",
   "execution_count": 11,
   "metadata": {},
   "outputs": [
    {
     "data": {
      "text/html": [
       "<div>\n",
       "<style>\n",
       "    .dataframe thead tr:only-child th {\n",
       "        text-align: right;\n",
       "    }\n",
       "\n",
       "    .dataframe thead th {\n",
       "        text-align: left;\n",
       "    }\n",
       "\n",
       "    .dataframe tbody tr th {\n",
       "        vertical-align: top;\n",
       "    }\n",
       "</style>\n",
       "<table class=\"dataframe\">\n",
       "  <thead>\n",
       "    <tr style=\"text-align: right;\">\n",
       "      <th></th>\n",
       "      <th>neighborhood_id</th>\n",
       "      <th>latitude</th>\n",
       "      <th>longitude</th>\n",
       "    </tr>\n",
       "  </thead>\n",
       "  <tbody>\n",
       "    <tr>\n",
       "      <th>0</th>\n",
       "      <td>C</td>\n",
       "      <td>40.783780</td>\n",
       "      <td>-73.953145</td>\n",
       "    </tr>\n",
       "    <tr>\n",
       "      <th>1</th>\n",
       "      <td>S</td>\n",
       "      <td>40.836792</td>\n",
       "      <td>-73.934381</td>\n",
       "    </tr>\n",
       "    <tr>\n",
       "      <th>2</th>\n",
       "      <td>AL</td>\n",
       "      <td>40.818445</td>\n",
       "      <td>-73.948046</td>\n",
       "    </tr>\n",
       "    <tr>\n",
       "      <th>3</th>\n",
       "      <td>J</td>\n",
       "      <td>40.799573</td>\n",
       "      <td>-73.940427</td>\n",
       "    </tr>\n",
       "    <tr>\n",
       "      <th>4</th>\n",
       "      <td>AV</td>\n",
       "      <td>40.776270</td>\n",
       "      <td>-73.982322</td>\n",
       "    </tr>\n",
       "  </tbody>\n",
       "</table>\n",
       "</div>"
      ],
      "text/plain": [
       "  neighborhood_id   latitude  longitude\n",
       "0               C  40.783780 -73.953145\n",
       "1               S  40.836792 -73.934381\n",
       "2              AL  40.818445 -73.948046\n",
       "3               J  40.799573 -73.940427\n",
       "4              AV  40.776270 -73.982322"
      ]
     },
     "execution_count": 11,
     "metadata": {},
     "output_type": "execute_result"
    }
   ],
   "source": [
    "#mapping of latitude, longitude to neiborhood_ids for dropoff neiborhoods\n",
    "preview(dropoff_neighborhoods, 5)"
   ]
  },
  {
   "cell_type": "markdown",
   "metadata": {},
   "source": [
    "*Some information about the datasets*"
   ]
  },
  {
   "cell_type": "code",
   "execution_count": 12,
   "metadata": {},
   "outputs": [
    {
     "name": "stdout",
     "output_type": "stream",
     "text": [
      "<class 'pandas.core.frame.DataFrame'>\n",
      "Int64Index: 10000 entries, 0 to 9999\n",
      "Data columns (total 14 columns):\n",
      "id                      10000 non-null int64\n",
      "vendor_id               10000 non-null int64\n",
      "pickup_datetime         10000 non-null datetime64[ns]\n",
      "dropoff_datetime        10000 non-null datetime64[ns]\n",
      "passenger_count         10000 non-null int64\n",
      "trip_distance           10000 non-null float64\n",
      "pickup_longitude        10000 non-null float64\n",
      "pickup_latitude         10000 non-null float64\n",
      "dropoff_longitude       10000 non-null float64\n",
      "dropoff_latitude        10000 non-null float64\n",
      "payment_type            10000 non-null object\n",
      "trip_duration           10000 non-null int64\n",
      "pickup_neighborhood     9816 non-null object\n",
      "dropoff_neighborhood    9835 non-null object\n",
      "dtypes: datetime64[ns](2), float64(5), int64(4), object(3)\n",
      "memory usage: 1.5+ MB\n"
     ]
    }
   ],
   "source": [
    "trips.info()"
   ]
  },
  {
   "cell_type": "code",
   "execution_count": 13,
   "metadata": {},
   "outputs": [
    {
     "name": "stdout",
     "output_type": "stream",
     "text": [
      "<class 'pandas.core.frame.DataFrame'>\n",
      "RangeIndex: 50 entries, 0 to 49\n",
      "Data columns (total 3 columns):\n",
      "neighborhood_id    49 non-null object\n",
      "latitude           50 non-null float64\n",
      "longitude          50 non-null float64\n",
      "dtypes: float64(2), object(1)\n",
      "memory usage: 1.2+ KB\n"
     ]
    }
   ],
   "source": [
    "pickup_neighborhoods.info()"
   ]
  },
  {
   "cell_type": "code",
   "execution_count": 14,
   "metadata": {
    "scrolled": true
   },
   "outputs": [
    {
     "name": "stdout",
     "output_type": "stream",
     "text": [
      "<class 'pandas.core.frame.DataFrame'>\n",
      "RangeIndex: 50 entries, 0 to 49\n",
      "Data columns (total 3 columns):\n",
      "neighborhood_id    49 non-null object\n",
      "latitude           50 non-null float64\n",
      "longitude          50 non-null float64\n",
      "dtypes: float64(2), object(1)\n",
      "memory usage: 1.2+ KB\n"
     ]
    }
   ],
   "source": [
    "dropoff_neighborhoods.info()"
   ]
  },
  {
   "cell_type": "markdown",
   "metadata": {},
   "source": [
    "There are some null values for some locations in the trips dataset"
   ]
  },
  {
   "cell_type": "markdown",
   "metadata": {},
   "source": [
    "## Where are the null values for pickup and dropoff neighborhood?"
   ]
  },
  {
   "cell_type": "code",
   "execution_count": 15,
   "metadata": {},
   "outputs": [
    {
     "data": {
      "text/plain": [
       "<matplotlib.axes._subplots.AxesSubplot at 0x7ff3b48c6d68>"
      ]
     },
     "execution_count": 15,
     "metadata": {},
     "output_type": "execute_result"
    },
    {
     "data": {
      "image/png": "[encoded data removed]",
      "text/plain": [
       "<Figure size 432x288 with 1 Axes>"
      ]
     },
     "metadata": {
      "needs_background": "light"
     },
     "output_type": "display_data"
    }
   ],
   "source": [
    "seaborn.scatterplot(trips[\"pickup_latitude\"], trips[\"pickup_longitude\"], hue = trips[\"pickup_neighborhood\"].isnull())"
   ]
  },
  {
   "cell_type": "code",
   "execution_count": 16,
   "metadata": {},
   "outputs": [
    {
     "data": {
      "text/plain": [
       "<matplotlib.axes._subplots.AxesSubplot at 0x7ff3b45f94a8>"
      ]
     },
     "execution_count": 16,
     "metadata": {},
     "output_type": "execute_result"
    },
    {
     "data": {
      "image/png": "[encoded data removed]",
      "text/plain": [
       "<Figure size 432x288 with 1 Axes>"
      ]
     },
     "metadata": {
      "needs_background": "light"
     },
     "output_type": "display_data"
    }
   ],
   "source": [
    "seaborn.scatterplot(trips[\"dropoff_latitude\"], trips[\"dropoff_longitude\"], hue = trips[\"dropoff_neighborhood\"].isnull())"
   ]
  },
  {
   "cell_type": "markdown",
   "metadata": {},
   "source": [
    "As the graphics show, the null values for neiborhood ids are located around the same location on latitude and longitude for pickup and dropoff."
   ]
  },
  {
   "cell_type": "markdown",
   "metadata": {},
   "source": [
    "**Making a couple of histograms for the trip durations on count and distributions**"
   ]
  },
  {
   "cell_type": "code",
   "execution_count": 17,
   "metadata": {},
   "outputs": [
    {
     "data": {
      "text/plain": [
       "count    10000.000000\n",
       "mean       746.098900\n",
       "std        525.049496\n",
       "min          2.000000\n",
       "25%        364.000000\n",
       "50%        616.000000\n",
       "75%        988.000000\n",
       "max       3573.000000\n",
       "Name: trip_duration, dtype: float64"
      ]
     },
     "execution_count": 17,
     "metadata": {},
     "output_type": "execute_result"
    }
   ],
   "source": [
    "trips[\"trip_duration\"].describe()"
   ]
  },
  {
   "cell_type": "code",
   "execution_count": 18,
   "metadata": {},
   "outputs": [
    {
     "data": {
      "text/plain": [
       "<matplotlib.axes._subplots.AxesSubplot at 0x7ff3b455c2b0>"
      ]
     },
     "execution_count": 18,
     "metadata": {},
     "output_type": "execute_result"
    },
    {
     "data": {
      "image/png": "[encoded data removed]",
      "text/plain": [
       "<Figure size 432x288 with 1 Axes>"
      ]
     },
     "metadata": {
      "needs_background": "light"
     },
     "output_type": "display_data"
    }
   ],
   "source": [
    "seaborn.distplot(trips[\"trip_duration\"])"
   ]
  },
  {
   "cell_type": "code",
   "execution_count": 19,
   "metadata": {},
   "outputs": [
    {
     "data": {
      "text/plain": [
       "<matplotlib.axes._subplots.AxesSubplot at 0x7ff3b41d3438>"
      ]
     },
     "execution_count": 19,
     "metadata": {},
     "output_type": "execute_result"
    },
    {
     "data": {
      "image/png": "[encoded data removed]",
      "text/plain": [
       "<Figure size 432x288 with 1 Axes>"
      ]
     },
     "metadata": {
      "needs_background": "light"
     },
     "output_type": "display_data"
    }
   ],
   "source": [
    "seaborn.distplot(trips[\"trip_duration\"], kde= False, bins = 10)"
   ]
  },
  {
   "cell_type": "markdown",
   "metadata": {},
   "source": [
    "Next, we want to check the day distribution of the trips to see if there is some variation across them"
   ]
  },
  {
   "cell_type": "markdown",
   "metadata": {},
   "source": [
    "First, let's check which days appear on the dataset on both dropoff and pickup datetimes"
   ]
  },
  {
   "cell_type": "code",
   "execution_count": 20,
   "metadata": {},
   "outputs": [
    {
     "data": {
      "text/plain": [
       "(array(['Saturday', 'Sunday'], dtype=object),\n",
       " array(['Saturday', 'Sunday'], dtype=object))"
      ]
     },
     "execution_count": 20,
     "metadata": {},
     "output_type": "execute_result"
    }
   ],
   "source": [
    "get_weekday = lambda datetime: datetime.strftime('%A')\n",
    "\n",
    "trips[\"pickup_datetime\"].apply(get_weekday).unique(), trips[\"dropoff_datetime\"].apply(get_weekday).unique()"
   ]
  },
  {
   "cell_type": "markdown",
   "metadata": {},
   "source": [
    "Surprisingly there are only Saturday and Sunday trips on the dataset"
   ]
  },
  {
   "cell_type": "code",
   "execution_count": 21,
   "metadata": {},
   "outputs": [
    {
     "data": {
      "text/plain": [
       "<matplotlib.axes._subplots.AxesSubplot at 0x7ff3b41baf98>"
      ]
     },
     "execution_count": 21,
     "metadata": {},
     "output_type": "execute_result"
    },
    {
     "data": {
      "image/png": "[encoded data removed]",
      "text/plain": [
       "<Figure size 432x288 with 1 Axes>"
      ]
     },
     "metadata": {
      "needs_background": "light"
     },
     "output_type": "display_data"
    }
   ],
   "source": [
    "saturday_trips = trips.loc[trips[\"pickup_datetime\"].apply(get_weekday) == \"Saturday\"]\n",
    "sunday_trips = trips.loc[trips[\"pickup_datetime\"].apply(get_weekday) == \"Sunday\"]\n",
    "\n",
    "seaborn.kdeplot(saturday_trips[\"trip_duration\"])\n",
    "seaborn.kdeplot(sunday_trips[\"trip_duration\"])"
   ]
  },
  {
   "cell_type": "markdown",
   "metadata": {},
   "source": [
    "Both days have very similar distributions so apparently between weekend days there is not much variation on trip duration."
   ]
  },
  {
   "cell_type": "markdown",
   "metadata": {},
   "source": [
    "<h1 style=\"color: black;\">QUESTION 1: DATA ANALYSIS</h1>"
   ]
  },
  {
   "cell_type": "markdown",
   "metadata": {},
   "source": [
    "**Describe the dataset. How many trips are in the dataset? How would you describe the distribution of trip durations? Is there anything else we should observe? Make sure the histogram is visible in the notebook.**"
   ]
  },
  {
   "cell_type": "markdown",
   "metadata": {},
   "source": [
    "The dataset is divided into three tables. \n",
    "* **Trips**: Contains details about each trip, the number of passengers, pickup and dropoff locations in latitude and longitude and more.\n",
    "* **Pickup neighborhoods**: Contains indicators of neighborhoods for each pickup location (latitude, longitude)\n",
    "* **Dropoff neighborhoods**: Contains indicators of neighborhoods for each dropoff location (latitude, longitude) \n",
    "\n",
    "There are ten thousend trips in the dataset, most of them have complete records, except for about two hundred that don't have an identified neighborhood. As the scatter plots show, these are concentrated around the same location, which indicates that maybe the data recollection on neighborhoods is not complete.\n",
    "\n",
    "There is only weekend trips on the dataset, which could result in some biased results for prediction in time duration for all weekdays.\n",
    "\n",
    "The distribution of the duration of the trips is skewed with a long right tail. The mean of the trips is 750 seconds long, which is about 12 minutes, which seems appropiate."
   ]
  },
  {
   "cell_type": "markdown",
   "metadata": {},
   "source": [
    "# Entities and Relationships"
   ]
  },
  {
   "cell_type": "markdown",
   "metadata": {},
   "source": [
    "Construct a dictionary of entities and relationships. You can read about the format of these objects [`here`](https://docs.featuretools.com/en/stable/generated/featuretools.dfs.html)."
   ]
  },
  {
   "cell_type": "code",
   "execution_count": 22,
   "metadata": {},
   "outputs": [],
   "source": [
    "# Construct entities and relationships dicts\n",
    "\n",
    "entities = {\n",
    "    \"trips\": (trips, \"id\", 'pickup_datetime'),\n",
    "    \"pickup_neighborhoods\": (pickup_neighborhoods, \"neighborhood_id\"),\n",
    "    \"dropoff_neighborhoods\": (dropoff_neighborhoods, \"neighborhood_id\"),\n",
    "}\n",
    "\n",
    "relationships = [(\"pickup_neighborhoods\", \"neighborhood_id\", \"trips\", \"pickup_neighborhood\"),\n",
    "                 (\"dropoff_neighborhoods\", \"neighborhood_id\", \"trips\", \"dropoff_neighborhood\")]"
   ]
  },
  {
   "cell_type": "markdown",
   "metadata": {},
   "source": [
    "# Transform Primitives"
   ]
  },
  {
   "cell_type": "code",
   "execution_count": 23,
   "metadata": {},
   "outputs": [],
   "source": [
    "# Make list of transform primtivies that only contains the Weekend object from above\n",
    "trans_primitives = [Weekend]"
   ]
  },
  {
   "cell_type": "code",
   "execution_count": 24,
   "metadata": {},
   "outputs": [],
   "source": [
    "# Then, use featuretools.dfs to get the features\n",
    "# See https://docs.featuretools.com/generated/featuretools.dfs.html\n",
    "# target entity should match name for trips entity in your entities dictionary\n",
    "# no agg_primitives yet\n",
    "# ignore the lat/long for dropoff and pickup\n",
    "\n",
    "features = ft.dfs(entities=entities,\n",
    "                  relationships=relationships,\n",
    "                  target_entity=\"trips\",\n",
    "                  trans_primitives=trans_primitives,\n",
    "                  agg_primitives=[],\n",
    "                  ignore_variables={\"trips\": [\"pickup_latitude\", \"pickup_longitude\",\n",
    "                                              \"dropoff_latitude\", \"dropoff_longitude\", \"trip_duration\"]},\n",
    "                  features_only=True)"
   ]
  },
  {
   "cell_type": "code",
   "execution_count": 25,
   "metadata": {},
   "outputs": [
    {
     "data": {
      "text/plain": [
       "(12,\n",
       " [<Feature: vendor_id>,\n",
       "  <Feature: passenger_count>,\n",
       "  <Feature: trip_distance>,\n",
       "  <Feature: payment_type>,\n",
       "  <Feature: pickup_neighborhood>,\n",
       "  <Feature: dropoff_neighborhood>,\n",
       "  <Feature: IS_WEEKEND(pickup_datetime)>,\n",
       "  <Feature: IS_WEEKEND(dropoff_datetime)>,\n",
       "  <Feature: pickup_neighborhoods.latitude>,\n",
       "  <Feature: pickup_neighborhoods.longitude>,\n",
       "  <Feature: dropoff_neighborhoods.latitude>,\n",
       "  <Feature: dropoff_neighborhoods.longitude>])"
      ]
     },
     "execution_count": 25,
     "metadata": {},
     "output_type": "execute_result"
    }
   ],
   "source": [
    "# Print out the features you just made\n",
    "len(features), features"
   ]
  },
  {
   "cell_type": "markdown",
   "metadata": {},
   "source": [
    "Feature tools will create two new features based on the original datetime columns for pickup and dropoff times"
   ]
  },
  {
   "cell_type": "code",
   "execution_count": 26,
   "metadata": {},
   "outputs": [
    {
     "name": "stdout",
     "output_type": "stream",
     "text": [
      "Elapsed: 00:02 | Remaining: 00:00 | Progress: 100%|██████████|| Calculated: 1/1 cutoff times\n",
      "Finishing computing...\n"
     ]
    }
   ],
   "source": [
    "# Use compute_features to get the feature matrix from the list of features you just made\n",
    "feature_matrix = compute_features(features)"
   ]
  },
  {
   "cell_type": "code",
   "execution_count": 27,
   "metadata": {},
   "outputs": [
    {
     "data": {
      "text/html": [
       "<div>\n",
       "<style>\n",
       "    .dataframe thead tr:only-child th {\n",
       "        text-align: right;\n",
       "    }\n",
       "\n",
       "    .dataframe thead th {\n",
       "        text-align: left;\n",
       "    }\n",
       "\n",
       "    .dataframe tbody tr th {\n",
       "        vertical-align: top;\n",
       "    }\n",
       "</style>\n",
       "<table class=\"dataframe\">\n",
       "  <thead>\n",
       "    <tr style=\"text-align: right;\">\n",
       "      <th></th>\n",
       "      <th>trip_distance</th>\n",
       "      <th>pickup_neighborhood = AA</th>\n",
       "      <th>pickup_neighborhood = D</th>\n",
       "      <th>pickup_neighborhood = AC</th>\n",
       "      <th>pickup_neighborhood = AB</th>\n",
       "      <th>pickup_neighborhood = AO</th>\n",
       "      <th>pickup_neighborhood = AD</th>\n",
       "      <th>pickup_neighborhood = Q</th>\n",
       "      <th>pickup_neighborhood = AR</th>\n",
       "      <th>pickup_neighborhood = AP</th>\n",
       "      <th>...</th>\n",
       "      <th>dropoff_neighborhood = M</th>\n",
       "      <th>dropoff_neighborhood = AF</th>\n",
       "      <th>dropoff_neighborhood = T</th>\n",
       "      <th>dropoff_neighborhood = B</th>\n",
       "      <th>dropoff_neighborhood = AI</th>\n",
       "      <th>dropoff_neighborhood = AE</th>\n",
       "      <th>dropoff_neighborhood = AQ</th>\n",
       "      <th>pickup_neighborhoods.longitude</th>\n",
       "      <th>IS_WEEKEND(dropoff_datetime)</th>\n",
       "      <th>vendor_id</th>\n",
       "    </tr>\n",
       "    <tr>\n",
       "      <th>id</th>\n",
       "      <th></th>\n",
       "      <th></th>\n",
       "      <th></th>\n",
       "      <th></th>\n",
       "      <th></th>\n",
       "      <th></th>\n",
       "      <th></th>\n",
       "      <th></th>\n",
       "      <th></th>\n",
       "      <th></th>\n",
       "      <th></th>\n",
       "      <th></th>\n",
       "      <th></th>\n",
       "      <th></th>\n",
       "      <th></th>\n",
       "      <th></th>\n",
       "      <th></th>\n",
       "      <th></th>\n",
       "      <th></th>\n",
       "      <th></th>\n",
       "      <th></th>\n",
       "    </tr>\n",
       "  </thead>\n",
       "  <tbody>\n",
       "    <tr>\n",
       "      <th>514030</th>\n",
       "      <td>2.46</td>\n",
       "      <td>1</td>\n",
       "      <td>0</td>\n",
       "      <td>0</td>\n",
       "      <td>0</td>\n",
       "      <td>0</td>\n",
       "      <td>0</td>\n",
       "      <td>0</td>\n",
       "      <td>0</td>\n",
       "      <td>0</td>\n",
       "      <td>...</td>\n",
       "      <td>0</td>\n",
       "      <td>0</td>\n",
       "      <td>0</td>\n",
       "      <td>0</td>\n",
       "      <td>0</td>\n",
       "      <td>0</td>\n",
       "      <td>0</td>\n",
       "      <td>-73.986446</td>\n",
       "      <td>True</td>\n",
       "      <td>2</td>\n",
       "    </tr>\n",
       "    <tr>\n",
       "      <th>514031</th>\n",
       "      <td>7.90</td>\n",
       "      <td>0</td>\n",
       "      <td>0</td>\n",
       "      <td>0</td>\n",
       "      <td>0</td>\n",
       "      <td>0</td>\n",
       "      <td>0</td>\n",
       "      <td>0</td>\n",
       "      <td>0</td>\n",
       "      <td>0</td>\n",
       "      <td>...</td>\n",
       "      <td>0</td>\n",
       "      <td>0</td>\n",
       "      <td>0</td>\n",
       "      <td>0</td>\n",
       "      <td>0</td>\n",
       "      <td>0</td>\n",
       "      <td>0</td>\n",
       "      <td>-73.919159</td>\n",
       "      <td>True</td>\n",
       "      <td>1</td>\n",
       "    </tr>\n",
       "    <tr>\n",
       "      <th>514032</th>\n",
       "      <td>1.00</td>\n",
       "      <td>0</td>\n",
       "      <td>0</td>\n",
       "      <td>0</td>\n",
       "      <td>0</td>\n",
       "      <td>0</td>\n",
       "      <td>0</td>\n",
       "      <td>0</td>\n",
       "      <td>0</td>\n",
       "      <td>0</td>\n",
       "      <td>...</td>\n",
       "      <td>0</td>\n",
       "      <td>0</td>\n",
       "      <td>0</td>\n",
       "      <td>0</td>\n",
       "      <td>0</td>\n",
       "      <td>0</td>\n",
       "      <td>0</td>\n",
       "      <td>-73.991595</td>\n",
       "      <td>True</td>\n",
       "      <td>1</td>\n",
       "    </tr>\n",
       "    <tr>\n",
       "      <th>514033</th>\n",
       "      <td>0.02</td>\n",
       "      <td>0</td>\n",
       "      <td>0</td>\n",
       "      <td>1</td>\n",
       "      <td>0</td>\n",
       "      <td>0</td>\n",
       "      <td>0</td>\n",
       "      <td>0</td>\n",
       "      <td>0</td>\n",
       "      <td>0</td>\n",
       "      <td>...</td>\n",
       "      <td>0</td>\n",
       "      <td>0</td>\n",
       "      <td>0</td>\n",
       "      <td>0</td>\n",
       "      <td>0</td>\n",
       "      <td>0</td>\n",
       "      <td>0</td>\n",
       "      <td>-73.987205</td>\n",
       "      <td>True</td>\n",
       "      <td>2</td>\n",
       "    </tr>\n",
       "    <tr>\n",
       "      <th>514034</th>\n",
       "      <td>19.00</td>\n",
       "      <td>0</td>\n",
       "      <td>0</td>\n",
       "      <td>0</td>\n",
       "      <td>0</td>\n",
       "      <td>0</td>\n",
       "      <td>0</td>\n",
       "      <td>0</td>\n",
       "      <td>0</td>\n",
       "      <td>0</td>\n",
       "      <td>...</td>\n",
       "      <td>0</td>\n",
       "      <td>0</td>\n",
       "      <td>0</td>\n",
       "      <td>0</td>\n",
       "      <td>0</td>\n",
       "      <td>0</td>\n",
       "      <td>0</td>\n",
       "      <td>-73.785073</td>\n",
       "      <td>True</td>\n",
       "      <td>1</td>\n",
       "    </tr>\n",
       "  </tbody>\n",
       "</table>\n",
       "<p>5 rows × 108 columns</p>\n",
       "</div>"
      ],
      "text/plain": [
       "        trip_distance  pickup_neighborhood = AA  pickup_neighborhood = D  \\\n",
       "id                                                                         \n",
       "514030           2.46                         1                        0   \n",
       "514031           7.90                         0                        0   \n",
       "514032           1.00                         0                        0   \n",
       "514033           0.02                         0                        0   \n",
       "514034          19.00                         0                        0   \n",
       "\n",
       "        pickup_neighborhood = AC  pickup_neighborhood = AB  \\\n",
       "id                                                           \n",
       "514030                         0                         0   \n",
       "514031                         0                         0   \n",
       "514032                         0                         0   \n",
       "514033                         1                         0   \n",
       "514034                         0                         0   \n",
       "\n",
       "        pickup_neighborhood = AO  pickup_neighborhood = AD  \\\n",
       "id                                                           \n",
       "514030                         0                         0   \n",
       "514031                         0                         0   \n",
       "514032                         0                         0   \n",
       "514033                         0                         0   \n",
       "514034                         0                         0   \n",
       "\n",
       "        pickup_neighborhood = Q  pickup_neighborhood = AR  \\\n",
       "id                                                          \n",
       "514030                        0                         0   \n",
       "514031                        0                         0   \n",
       "514032                        0                         0   \n",
       "514033                        0                         0   \n",
       "514034                        0                         0   \n",
       "\n",
       "        pickup_neighborhood = AP    ...      dropoff_neighborhood = M  \\\n",
       "id                                  ...                                 \n",
       "514030                         0    ...                             0   \n",
       "514031                         0    ...                             0   \n",
       "514032                         0    ...                             0   \n",
       "514033                         0    ...                             0   \n",
       "514034                         0    ...                             0   \n",
       "\n",
       "        dropoff_neighborhood = AF  dropoff_neighborhood = T  \\\n",
       "id                                                            \n",
       "514030                          0                         0   \n",
       "514031                          0                         0   \n",
       "514032                          0                         0   \n",
       "514033                          0                         0   \n",
       "514034                          0                         0   \n",
       "\n",
       "        dropoff_neighborhood = B  dropoff_neighborhood = AI  \\\n",
       "id                                                            \n",
       "514030                         0                          0   \n",
       "514031                         0                          0   \n",
       "514032                         0                          0   \n",
       "514033                         0                          0   \n",
       "514034                         0                          0   \n",
       "\n",
       "        dropoff_neighborhood = AE  dropoff_neighborhood = AQ  \\\n",
       "id                                                             \n",
       "514030                          0                          0   \n",
       "514031                          0                          0   \n",
       "514032                          0                          0   \n",
       "514033                          0                          0   \n",
       "514034                          0                          0   \n",
       "\n",
       "        pickup_neighborhoods.longitude  IS_WEEKEND(dropoff_datetime)  \\\n",
       "id                                                                     \n",
       "514030                      -73.986446                          True   \n",
       "514031                      -73.919159                          True   \n",
       "514032                      -73.991595                          True   \n",
       "514033                      -73.987205                          True   \n",
       "514034                      -73.785073                          True   \n",
       "\n",
       "        vendor_id  \n",
       "id                 \n",
       "514030          2  \n",
       "514031          1  \n",
       "514032          1  \n",
       "514033          2  \n",
       "514034          1  \n",
       "\n",
       "[5 rows x 108 columns]"
      ]
     },
     "execution_count": 27,
     "metadata": {},
     "output_type": "execute_result"
    }
   ],
   "source": [
    "preview(feature_matrix, 5)"
   ]
  },
  {
   "cell_type": "markdown",
   "metadata": {},
   "source": [
    "The function compute_features has also one hot encoded the pickup and dropoff neighborhoods"
   ]
  },
  {
   "cell_type": "markdown",
   "metadata": {},
   "source": [
    "# First Model"
   ]
  },
  {
   "cell_type": "code",
   "execution_count": 28,
   "metadata": {},
   "outputs": [],
   "source": [
    "# Split feature matrix (75% train, 25% test) using utils.train_test_fm\n",
    "# Pass in features, trips dataframe, and fraction train (0.75)\n",
    "\n",
    "X_train, y_train, X_test, y_test = utils.get_train_test_fm(feature_matrix, trips, .75)"
   ]
  },
  {
   "cell_type": "code",
   "execution_count": 29,
   "metadata": {},
   "outputs": [],
   "source": [
    "# Use np.log(x + 1) to take the log of a particular vector x - this helps create a more linear relationship\n",
    "y_train = np.log(y_train + 1)\n",
    "y_test = np.log(y_test + 1)"
   ]
  },
  {
   "cell_type": "code",
   "execution_count": 30,
   "metadata": {},
   "outputs": [
    {
     "name": "stdout",
     "output_type": "stream",
     "text": [
      "      Iter       Train Loss   Remaining Time \n",
      "         1           0.4736           21.49s\n",
      "         2           0.4148           21.23s\n",
      "         3           0.3661           21.54s\n",
      "         4           0.3266           21.54s\n",
      "         5           0.2934           20.93s\n",
      "         6           0.2665           20.57s\n",
      "         7           0.2441           20.13s\n",
      "         8           0.2257           19.61s\n",
      "         9           0.2103           19.09s\n",
      "        10           0.1973           18.58s\n",
      "        20           0.1433           15.48s\n",
      "        30           0.1308           13.04s\n",
      "        40           0.1252           10.36s\n",
      "        50           0.1212            8.03s\n",
      "        60           0.1187            6.07s\n",
      "        70           0.1167            4.38s\n",
      "        80           0.1155            2.82s\n",
      "        90           0.1143            1.37s\n",
      "       100           0.1133            0.00s\n"
     ]
    },
    {
     "data": {
      "text/plain": [
       "GradientBoostingRegressor(alpha=0.9, criterion='friedman_mse', init=None,\n",
       "             learning_rate=0.1, loss='ls', max_depth=3, max_features=None,\n",
       "             max_leaf_nodes=None, min_impurity_decrease=0.0,\n",
       "             min_impurity_split=None, min_samples_leaf=1,\n",
       "             min_samples_split=2, min_weight_fraction_leaf=0.0,\n",
       "             n_estimators=100, n_iter_no_change=None, presort='auto',\n",
       "             random_state=None, subsample=1.0, tol=0.0001,\n",
       "             validation_fraction=0.1, verbose=True, warm_start=False)"
      ]
     },
     "execution_count": 30,
     "metadata": {},
     "output_type": "execute_result"
    }
   ],
   "source": [
    "# Then, create a GradientBoostingRegressor\n",
    "# Fit to training\n",
    "# Score on testing\n",
    "model = GradientBoostingRegressor(verbose=True)\n",
    "model.fit(X_train, y_train)"
   ]
  },
  {
   "cell_type": "code",
   "execution_count": 32,
   "metadata": {},
   "outputs": [
    {
     "name": "stdout",
     "output_type": "stream",
     "text": [
      "R2 train: 0.7922934827227895\n",
      "R2 test: 0.755456069153074\n"
     ]
    }
   ],
   "source": [
    "# R squared for train and test \n",
    "\n",
    "prediction_train = model.predict(X_train)\n",
    "prediction_test = model.predict(X_test)\n",
    "\n",
    "r2_train = r2_score(y_train, prediction_train)\n",
    "r2_test = r2_score(y_test, prediction_test)\n",
    "\n",
    "print(f\"R2 train: {r2_train}\")\n",
    "print(f\"R2 test: {r2_test}\")"
   ]
  },
  {
   "cell_type": "markdown",
   "metadata": {},
   "source": [
    "<h1 style=\"color: black;\">QUESTION 2: FIRST MODEL</h1>"
   ]
  },
  {
   "cell_type": "markdown",
   "metadata": {},
   "source": [
    "**Describe all the features that we added to the model. Do you think these improved the performance from a model that did not have these features? Why?**"
   ]
  },
  {
   "cell_type": "markdown",
   "metadata": {},
   "source": [
    "There were several features added by the preprocessing pipeline. \n",
    "\n",
    "* The pickup and dropoff neighborhood identificators were one hot encoded, that means that one categorical column was transformed into a long list of columns with flags that indicate if the trip started or ended at an specific neighborhood.\n",
    "\n",
    "* The datetime objects were transformed into a binary flags that indicate wether the date was during a weekend or not. It seems logical that these will get a better performance since traffic should be lighter on weekends when most of the people is not working and including this flags helps us capture this information while training. However, as we noted previously, all the trips on the dataset occurred during weekends so the performance doesn't change if we include this column or not because the columns contain the same constant value on all rows."
   ]
  },
  {
   "cell_type": "markdown",
   "metadata": {},
   "source": [
    "# More Transform Primitives"
   ]
  },
  {
   "cell_type": "code",
   "execution_count": 33,
   "metadata": {},
   "outputs": [],
   "source": [
    "# Make list of transform primtivies that contain new primitives described in the instruction manual\n",
    "\n",
    "trans_primitives = [Minute, Hour, Day, Week, Month, Weekday, Weekend]"
   ]
  },
  {
   "cell_type": "code",
   "execution_count": 34,
   "metadata": {},
   "outputs": [
    {
     "data": {
      "text/plain": [
       "(24,\n",
       " [<Feature: vendor_id>,\n",
       "  <Feature: passenger_count>,\n",
       "  <Feature: trip_distance>,\n",
       "  <Feature: payment_type>,\n",
       "  <Feature: pickup_neighborhood>,\n",
       "  <Feature: dropoff_neighborhood>,\n",
       "  <Feature: MINUTE(pickup_datetime)>,\n",
       "  <Feature: MINUTE(dropoff_datetime)>,\n",
       "  <Feature: HOUR(pickup_datetime)>,\n",
       "  <Feature: HOUR(dropoff_datetime)>,\n",
       "  <Feature: DAY(pickup_datetime)>,\n",
       "  <Feature: DAY(dropoff_datetime)>,\n",
       "  <Feature: WEEK(pickup_datetime)>,\n",
       "  <Feature: WEEK(dropoff_datetime)>,\n",
       "  <Feature: MONTH(pickup_datetime)>,\n",
       "  <Feature: MONTH(dropoff_datetime)>,\n",
       "  <Feature: WEEKDAY(pickup_datetime)>,\n",
       "  <Feature: WEEKDAY(dropoff_datetime)>,\n",
       "  <Feature: IS_WEEKEND(pickup_datetime)>,\n",
       "  <Feature: IS_WEEKEND(dropoff_datetime)>,\n",
       "  <Feature: pickup_neighborhoods.latitude>,\n",
       "  <Feature: pickup_neighborhoods.longitude>,\n",
       "  <Feature: dropoff_neighborhoods.latitude>,\n",
       "  <Feature: dropoff_neighborhoods.longitude>])"
      ]
     },
     "execution_count": 34,
     "metadata": {},
     "output_type": "execute_result"
    }
   ],
   "source": [
    "# Compute features\n",
    "features = ft.dfs(entities=entities,\n",
    "                  relationships=relationships,\n",
    "                  target_entity=\"trips\",\n",
    "                  trans_primitives=trans_primitives,\n",
    "                  agg_primitives=[],\n",
    "                  ignore_variables={\"trips\": [\"pickup_latitude\", \"pickup_longitude\",\n",
    "                                              \"dropoff_latitude\", \"dropoff_longitude\", \"trip_duration\"]},\n",
    "                  features_only=True)\n",
    "\n",
    "len(features), features"
   ]
  },
  {
   "cell_type": "code",
   "execution_count": 35,
   "metadata": {},
   "outputs": [
    {
     "name": "stdout",
     "output_type": "stream",
     "text": [
      "Elapsed: 00:02 | Remaining: 00:00 | Progress: 100%|██████████|| Calculated: 1/1 cutoff times\n",
      "Finishing computing...\n"
     ]
    },
    {
     "data": {
      "text/html": [
       "<div>\n",
       "<style>\n",
       "    .dataframe thead tr:only-child th {\n",
       "        text-align: right;\n",
       "    }\n",
       "\n",
       "    .dataframe thead th {\n",
       "        text-align: left;\n",
       "    }\n",
       "\n",
       "    .dataframe tbody tr th {\n",
       "        vertical-align: top;\n",
       "    }\n",
       "</style>\n",
       "<table class=\"dataframe\">\n",
       "  <thead>\n",
       "    <tr style=\"text-align: right;\">\n",
       "      <th></th>\n",
       "      <th>IS_WEEKEND(dropoff_datetime)</th>\n",
       "      <th>MINUTE(pickup_datetime)</th>\n",
       "      <th>DAY(pickup_datetime)</th>\n",
       "      <th>WEEK(pickup_datetime)</th>\n",
       "      <th>pickup_neighborhood = AA</th>\n",
       "      <th>pickup_neighborhood = D</th>\n",
       "      <th>pickup_neighborhood = AC</th>\n",
       "      <th>pickup_neighborhood = AB</th>\n",
       "      <th>pickup_neighborhood = AO</th>\n",
       "      <th>pickup_neighborhood = AD</th>\n",
       "      <th>...</th>\n",
       "      <th>WEEKDAY(pickup_datetime)</th>\n",
       "      <th>HOUR(pickup_datetime)</th>\n",
       "      <th>MINUTE(dropoff_datetime)</th>\n",
       "      <th>HOUR(dropoff_datetime)</th>\n",
       "      <th>pickup_neighborhoods.latitude</th>\n",
       "      <th>payment_type</th>\n",
       "      <th>IS_WEEKEND(pickup_datetime)</th>\n",
       "      <th>passenger_count</th>\n",
       "      <th>WEEKDAY(dropoff_datetime)</th>\n",
       "      <th>DAY(dropoff_datetime)</th>\n",
       "    </tr>\n",
       "    <tr>\n",
       "      <th>id</th>\n",
       "      <th></th>\n",
       "      <th></th>\n",
       "      <th></th>\n",
       "      <th></th>\n",
       "      <th></th>\n",
       "      <th></th>\n",
       "      <th></th>\n",
       "      <th></th>\n",
       "      <th></th>\n",
       "      <th></th>\n",
       "      <th></th>\n",
       "      <th></th>\n",
       "      <th></th>\n",
       "      <th></th>\n",
       "      <th></th>\n",
       "      <th></th>\n",
       "      <th></th>\n",
       "      <th></th>\n",
       "      <th></th>\n",
       "      <th></th>\n",
       "      <th></th>\n",
       "    </tr>\n",
       "  </thead>\n",
       "  <tbody>\n",
       "    <tr>\n",
       "      <th>514030</th>\n",
       "      <td>True</td>\n",
       "      <td>0</td>\n",
       "      <td>2</td>\n",
       "      <td>13</td>\n",
       "      <td>1</td>\n",
       "      <td>0</td>\n",
       "      <td>0</td>\n",
       "      <td>0</td>\n",
       "      <td>0</td>\n",
       "      <td>0</td>\n",
       "      <td>...</td>\n",
       "      <td>5</td>\n",
       "      <td>0</td>\n",
       "      <td>17</td>\n",
       "      <td>0</td>\n",
       "      <td>40.757707</td>\n",
       "      <td>1</td>\n",
       "      <td>True</td>\n",
       "      <td>1</td>\n",
       "      <td>5</td>\n",
       "      <td>2</td>\n",
       "    </tr>\n",
       "    <tr>\n",
       "      <th>514031</th>\n",
       "      <td>True</td>\n",
       "      <td>0</td>\n",
       "      <td>2</td>\n",
       "      <td>13</td>\n",
       "      <td>0</td>\n",
       "      <td>0</td>\n",
       "      <td>0</td>\n",
       "      <td>0</td>\n",
       "      <td>0</td>\n",
       "      <td>0</td>\n",
       "      <td>...</td>\n",
       "      <td>5</td>\n",
       "      <td>0</td>\n",
       "      <td>24</td>\n",
       "      <td>0</td>\n",
       "      <td>40.744928</td>\n",
       "      <td>1</td>\n",
       "      <td>True</td>\n",
       "      <td>2</td>\n",
       "      <td>5</td>\n",
       "      <td>2</td>\n",
       "    </tr>\n",
       "    <tr>\n",
       "      <th>514032</th>\n",
       "      <td>True</td>\n",
       "      <td>0</td>\n",
       "      <td>2</td>\n",
       "      <td>13</td>\n",
       "      <td>0</td>\n",
       "      <td>0</td>\n",
       "      <td>0</td>\n",
       "      <td>0</td>\n",
       "      <td>0</td>\n",
       "      <td>0</td>\n",
       "      <td>...</td>\n",
       "      <td>5</td>\n",
       "      <td>0</td>\n",
       "      <td>19</td>\n",
       "      <td>0</td>\n",
       "      <td>40.729652</td>\n",
       "      <td>1</td>\n",
       "      <td>True</td>\n",
       "      <td>1</td>\n",
       "      <td>5</td>\n",
       "      <td>2</td>\n",
       "    </tr>\n",
       "    <tr>\n",
       "      <th>514033</th>\n",
       "      <td>True</td>\n",
       "      <td>0</td>\n",
       "      <td>2</td>\n",
       "      <td>13</td>\n",
       "      <td>0</td>\n",
       "      <td>0</td>\n",
       "      <td>1</td>\n",
       "      <td>0</td>\n",
       "      <td>0</td>\n",
       "      <td>0</td>\n",
       "      <td>...</td>\n",
       "      <td>5</td>\n",
       "      <td>0</td>\n",
       "      <td>1</td>\n",
       "      <td>0</td>\n",
       "      <td>40.720245</td>\n",
       "      <td>2</td>\n",
       "      <td>True</td>\n",
       "      <td>1</td>\n",
       "      <td>5</td>\n",
       "      <td>2</td>\n",
       "    </tr>\n",
       "    <tr>\n",
       "      <th>514034</th>\n",
       "      <td>True</td>\n",
       "      <td>1</td>\n",
       "      <td>2</td>\n",
       "      <td>13</td>\n",
       "      <td>0</td>\n",
       "      <td>0</td>\n",
       "      <td>0</td>\n",
       "      <td>0</td>\n",
       "      <td>0</td>\n",
       "      <td>0</td>\n",
       "      <td>...</td>\n",
       "      <td>5</td>\n",
       "      <td>0</td>\n",
       "      <td>58</td>\n",
       "      <td>0</td>\n",
       "      <td>40.646194</td>\n",
       "      <td>1</td>\n",
       "      <td>True</td>\n",
       "      <td>2</td>\n",
       "      <td>5</td>\n",
       "      <td>2</td>\n",
       "    </tr>\n",
       "  </tbody>\n",
       "</table>\n",
       "<p>5 rows × 120 columns</p>\n",
       "</div>"
      ],
      "text/plain": [
       "        IS_WEEKEND(dropoff_datetime)  MINUTE(pickup_datetime)  \\\n",
       "id                                                              \n",
       "514030                          True                        0   \n",
       "514031                          True                        0   \n",
       "514032                          True                        0   \n",
       "514033                          True                        0   \n",
       "514034                          True                        1   \n",
       "\n",
       "        DAY(pickup_datetime)  WEEK(pickup_datetime)  pickup_neighborhood = AA  \\\n",
       "id                                                                              \n",
       "514030                     2                     13                         1   \n",
       "514031                     2                     13                         0   \n",
       "514032                     2                     13                         0   \n",
       "514033                     2                     13                         0   \n",
       "514034                     2                     13                         0   \n",
       "\n",
       "        pickup_neighborhood = D  pickup_neighborhood = AC  \\\n",
       "id                                                          \n",
       "514030                        0                         0   \n",
       "514031                        0                         0   \n",
       "514032                        0                         0   \n",
       "514033                        0                         1   \n",
       "514034                        0                         0   \n",
       "\n",
       "        pickup_neighborhood = AB  pickup_neighborhood = AO  \\\n",
       "id                                                           \n",
       "514030                         0                         0   \n",
       "514031                         0                         0   \n",
       "514032                         0                         0   \n",
       "514033                         0                         0   \n",
       "514034                         0                         0   \n",
       "\n",
       "        pickup_neighborhood = AD          ...            \\\n",
       "id                                        ...             \n",
       "514030                         0          ...             \n",
       "514031                         0          ...             \n",
       "514032                         0          ...             \n",
       "514033                         0          ...             \n",
       "514034                         0          ...             \n",
       "\n",
       "        WEEKDAY(pickup_datetime)  HOUR(pickup_datetime)  \\\n",
       "id                                                        \n",
       "514030                         5                      0   \n",
       "514031                         5                      0   \n",
       "514032                         5                      0   \n",
       "514033                         5                      0   \n",
       "514034                         5                      0   \n",
       "\n",
       "        MINUTE(dropoff_datetime)  HOUR(dropoff_datetime)  \\\n",
       "id                                                         \n",
       "514030                        17                       0   \n",
       "514031                        24                       0   \n",
       "514032                        19                       0   \n",
       "514033                         1                       0   \n",
       "514034                        58                       0   \n",
       "\n",
       "        pickup_neighborhoods.latitude  payment_type  \\\n",
       "id                                                    \n",
       "514030                      40.757707             1   \n",
       "514031                      40.744928             1   \n",
       "514032                      40.729652             1   \n",
       "514033                      40.720245             2   \n",
       "514034                      40.646194             1   \n",
       "\n",
       "        IS_WEEKEND(pickup_datetime)  passenger_count  \\\n",
       "id                                                     \n",
       "514030                         True                1   \n",
       "514031                         True                2   \n",
       "514032                         True                1   \n",
       "514033                         True                1   \n",
       "514034                         True                2   \n",
       "\n",
       "        WEEKDAY(dropoff_datetime)  DAY(dropoff_datetime)  \n",
       "id                                                        \n",
       "514030                          5                      2  \n",
       "514031                          5                      2  \n",
       "514032                          5                      2  \n",
       "514033                          5                      2  \n",
       "514034                          5                      2  \n",
       "\n",
       "[5 rows x 120 columns]"
      ]
     },
     "execution_count": 35,
     "metadata": {},
     "output_type": "execute_result"
    }
   ],
   "source": [
    "# Compute feature matrix\n",
    "feature_matrix = compute_features(features)\n",
    "preview(feature_matrix, 5)"
   ]
  },
  {
   "cell_type": "code",
   "execution_count": 36,
   "metadata": {},
   "outputs": [],
   "source": [
    "# Re-split feature matrix\n",
    "# Re-split data\n",
    "X_train, y_train, X_test, y_test = utils.get_train_test_fm(feature_matrix, trips, .75)\n",
    "y_train = np.log(y_train + 1)\n",
    "y_test = np.log(y_test + 1)"
   ]
  },
  {
   "cell_type": "code",
   "execution_count": 37,
   "metadata": {},
   "outputs": [
    {
     "name": "stdout",
     "output_type": "stream",
     "text": [
      "      Iter       Train Loss   Remaining Time \n",
      "         1           0.4736           20.59s\n",
      "         2           0.4148           21.66s\n",
      "         3           0.3661           21.02s\n",
      "         4           0.3264           20.89s\n",
      "         5           0.2930           20.00s\n",
      "         6           0.2660           19.66s\n",
      "         7           0.2432           19.30s\n",
      "         8           0.2245           18.95s\n",
      "         9           0.2090           18.59s\n",
      "        10           0.1960           18.42s\n",
      "        20           0.1362           16.26s\n",
      "        30           0.1198           13.71s\n",
      "        40           0.1124           11.16s\n",
      "        50           0.1075            8.78s\n",
      "        60           0.1044            6.61s\n",
      "        70           0.1017            4.73s\n",
      "        80           0.0999            3.01s\n",
      "        90           0.0971            1.45s\n",
      "       100           0.0936            0.00s\n"
     ]
    },
    {
     "data": {
      "text/plain": [
       "GradientBoostingRegressor(alpha=0.9, criterion='friedman_mse', init=None,\n",
       "             learning_rate=0.1, loss='ls', max_depth=3, max_features=None,\n",
       "             max_leaf_nodes=None, min_impurity_decrease=0.0,\n",
       "             min_impurity_split=None, min_samples_leaf=1,\n",
       "             min_samples_split=2, min_weight_fraction_leaf=0.0,\n",
       "             n_estimators=100, n_iter_no_change=None, presort='auto',\n",
       "             random_state=None, subsample=1.0, tol=0.0001,\n",
       "             validation_fraction=0.1, verbose=True, warm_start=False)"
      ]
     },
     "execution_count": 37,
     "metadata": {},
     "output_type": "execute_result"
    }
   ],
   "source": [
    "# Train and score NEW model\n",
    "model = GradientBoostingRegressor(verbose=True)\n",
    "model.fit(X_train, y_train)"
   ]
  },
  {
   "cell_type": "code",
   "execution_count": 38,
   "metadata": {},
   "outputs": [
    {
     "name": "stdout",
     "output_type": "stream",
     "text": [
      "R2 train: 0.8282949393645993\n",
      "R2 test: 0.801318632688629\n"
     ]
    }
   ],
   "source": [
    "# R squared for train and test \n",
    "\n",
    "prediction_train = model.predict(X_train)\n",
    "prediction_test = model.predict(X_test)\n",
    "\n",
    "r2_train = r2_score(y_train, prediction_train)\n",
    "r2_test = r2_score(y_test, prediction_test)\n",
    "\n",
    "print(f\"R2 train: {r2_train}\")\n",
    "print(f\"R2 test: {r2_test}\")"
   ]
  },
  {
   "cell_type": "markdown",
   "metadata": {},
   "source": [
    "<h1 style=\"color: black;\">QUESTION 3: SECOND MODEL</h1>"
   ]
  },
  {
   "cell_type": "markdown",
   "metadata": {},
   "source": [
    "**Describe the rest of the new features that we just added to the model. How did this affect performance? Did we have to sacrifice training time?**"
   ]
  },
  {
   "cell_type": "markdown",
   "metadata": {},
   "source": [
    "For this model, the datetime columns were more preprocessed that in the previous example. These new features contain information about the time of the day (hour, minute), the day of the week, if the day is a weekend day or not (as in the previous case), and the month of the trip. The model performed significantly better than the previous one and it makes sense since in this case, the new features added value to the model by giving new columns with new information and not a constant feature like the previous case. \n",
    "\n",
    "The training time did not change too much on the Azure Notebooks platform, however, the times could increase if the dataset had significantly more records or the available computational resources were low."
   ]
  },
  {
   "cell_type": "markdown",
   "metadata": {},
   "source": [
    "# Aggregation Primitives"
   ]
  },
  {
   "cell_type": "code",
   "execution_count": 39,
   "metadata": {},
   "outputs": [],
   "source": [
    "# Make list of transform primtivies that are the same as above\n",
    "# Make a list of aggregation primitives containing Count, Sum, Mean, Median, Std, Max, Min\n",
    "\n",
    "trans_primitives = [Minute, Hour, Day, Week, Month, Weekday, Weekend]\n",
    "aggregation_primitives = [Count, Sum, Mean, Median, Std, Max, Min]"
   ]
  },
  {
   "cell_type": "code",
   "execution_count": 40,
   "metadata": {},
   "outputs": [
    {
     "data": {
      "text/plain": [
       "(62,\n",
       " [<Feature: vendor_id>,\n",
       "  <Feature: passenger_count>,\n",
       "  <Feature: trip_distance>,\n",
       "  <Feature: payment_type>,\n",
       "  <Feature: pickup_neighborhood>,\n",
       "  <Feature: dropoff_neighborhood>,\n",
       "  <Feature: MINUTE(pickup_datetime)>,\n",
       "  <Feature: MINUTE(dropoff_datetime)>,\n",
       "  <Feature: HOUR(pickup_datetime)>,\n",
       "  <Feature: HOUR(dropoff_datetime)>,\n",
       "  <Feature: DAY(pickup_datetime)>,\n",
       "  <Feature: DAY(dropoff_datetime)>,\n",
       "  <Feature: WEEK(pickup_datetime)>,\n",
       "  <Feature: WEEK(dropoff_datetime)>,\n",
       "  <Feature: MONTH(pickup_datetime)>,\n",
       "  <Feature: MONTH(dropoff_datetime)>,\n",
       "  <Feature: WEEKDAY(pickup_datetime)>,\n",
       "  <Feature: WEEKDAY(dropoff_datetime)>,\n",
       "  <Feature: IS_WEEKEND(pickup_datetime)>,\n",
       "  <Feature: IS_WEEKEND(dropoff_datetime)>,\n",
       "  <Feature: pickup_neighborhoods.latitude>,\n",
       "  <Feature: pickup_neighborhoods.longitude>,\n",
       "  <Feature: dropoff_neighborhoods.latitude>,\n",
       "  <Feature: dropoff_neighborhoods.longitude>,\n",
       "  <Feature: pickup_neighborhoods.COUNT(trips)>,\n",
       "  <Feature: pickup_neighborhoods.SUM(trips.vendor_id)>,\n",
       "  <Feature: pickup_neighborhoods.SUM(trips.passenger_count)>,\n",
       "  <Feature: pickup_neighborhoods.SUM(trips.trip_distance)>,\n",
       "  <Feature: pickup_neighborhoods.MEAN(trips.vendor_id)>,\n",
       "  <Feature: pickup_neighborhoods.MEAN(trips.passenger_count)>,\n",
       "  <Feature: pickup_neighborhoods.MEAN(trips.trip_distance)>,\n",
       "  <Feature: pickup_neighborhoods.MEDIAN(trips.vendor_id)>,\n",
       "  <Feature: pickup_neighborhoods.MEDIAN(trips.passenger_count)>,\n",
       "  <Feature: pickup_neighborhoods.MEDIAN(trips.trip_distance)>,\n",
       "  <Feature: pickup_neighborhoods.STD(trips.vendor_id)>,\n",
       "  <Feature: pickup_neighborhoods.STD(trips.passenger_count)>,\n",
       "  <Feature: pickup_neighborhoods.STD(trips.trip_distance)>,\n",
       "  <Feature: pickup_neighborhoods.MAX(trips.vendor_id)>,\n",
       "  <Feature: pickup_neighborhoods.MAX(trips.passenger_count)>,\n",
       "  <Feature: pickup_neighborhoods.MAX(trips.trip_distance)>,\n",
       "  <Feature: pickup_neighborhoods.MIN(trips.vendor_id)>,\n",
       "  <Feature: pickup_neighborhoods.MIN(trips.passenger_count)>,\n",
       "  <Feature: pickup_neighborhoods.MIN(trips.trip_distance)>,\n",
       "  <Feature: dropoff_neighborhoods.COUNT(trips)>,\n",
       "  <Feature: dropoff_neighborhoods.SUM(trips.vendor_id)>,\n",
       "  <Feature: dropoff_neighborhoods.SUM(trips.passenger_count)>,\n",
       "  <Feature: dropoff_neighborhoods.SUM(trips.trip_distance)>,\n",
       "  <Feature: dropoff_neighborhoods.MEAN(trips.vendor_id)>,\n",
       "  <Feature: dropoff_neighborhoods.MEAN(trips.passenger_count)>,\n",
       "  <Feature: dropoff_neighborhoods.MEAN(trips.trip_distance)>,\n",
       "  <Feature: dropoff_neighborhoods.MEDIAN(trips.vendor_id)>,\n",
       "  <Feature: dropoff_neighborhoods.MEDIAN(trips.passenger_count)>,\n",
       "  <Feature: dropoff_neighborhoods.MEDIAN(trips.trip_distance)>,\n",
       "  <Feature: dropoff_neighborhoods.STD(trips.vendor_id)>,\n",
       "  <Feature: dropoff_neighborhoods.STD(trips.passenger_count)>,\n",
       "  <Feature: dropoff_neighborhoods.STD(trips.trip_distance)>,\n",
       "  <Feature: dropoff_neighborhoods.MAX(trips.vendor_id)>,\n",
       "  <Feature: dropoff_neighborhoods.MAX(trips.passenger_count)>,\n",
       "  <Feature: dropoff_neighborhoods.MAX(trips.trip_distance)>,\n",
       "  <Feature: dropoff_neighborhoods.MIN(trips.vendor_id)>,\n",
       "  <Feature: dropoff_neighborhoods.MIN(trips.passenger_count)>,\n",
       "  <Feature: dropoff_neighborhoods.MIN(trips.trip_distance)>])"
      ]
     },
     "execution_count": 40,
     "metadata": {},
     "output_type": "execute_result"
    }
   ],
   "source": [
    "# Compute features\n",
    "features = ft.dfs(entities=entities,\n",
    "                  relationships=relationships,\n",
    "                  target_entity=\"trips\",\n",
    "                  trans_primitives=trans_primitives,\n",
    "                  agg_primitives=aggregation_primitives,\n",
    "                  ignore_variables={\"trips\": [\"pickup_latitude\", \"pickup_longitude\",\n",
    "                                              \"dropoff_latitude\", \"dropoff_longitude\", \"trip_duration\"]},\n",
    "                  features_only=True)\n",
    "\n",
    "len(features), features"
   ]
  },
  {
   "cell_type": "code",
   "execution_count": 41,
   "metadata": {},
   "outputs": [
    {
     "name": "stdout",
     "output_type": "stream",
     "text": [
      "Elapsed: 00:06 | Remaining: 00:00 | Progress: 100%|██████████|| Calculated: 1/1 cutoff times\n",
      "Finishing computing...\n"
     ]
    },
    {
     "data": {
      "text/html": [
       "<div>\n",
       "<style>\n",
       "    .dataframe thead tr:only-child th {\n",
       "        text-align: right;\n",
       "    }\n",
       "\n",
       "    .dataframe thead th {\n",
       "        text-align: left;\n",
       "    }\n",
       "\n",
       "    .dataframe tbody tr th {\n",
       "        vertical-align: top;\n",
       "    }\n",
       "</style>\n",
       "<table class=\"dataframe\">\n",
       "  <thead>\n",
       "    <tr style=\"text-align: right;\">\n",
       "      <th></th>\n",
       "      <th>pickup_neighborhoods.MIN(trips.vendor_id)</th>\n",
       "      <th>payment_type</th>\n",
       "      <th>MONTH(pickup_datetime)</th>\n",
       "      <th>pickup_neighborhoods.MIN(trips.passenger_count)</th>\n",
       "      <th>pickup_neighborhoods.MAX(trips.vendor_id)</th>\n",
       "      <th>dropoff_neighborhoods.SUM(trips.trip_distance)</th>\n",
       "      <th>HOUR(pickup_datetime)</th>\n",
       "      <th>MONTH(dropoff_datetime)</th>\n",
       "      <th>dropoff_neighborhoods.MIN(trips.passenger_count)</th>\n",
       "      <th>dropoff_neighborhoods.MAX(trips.passenger_count)</th>\n",
       "      <th>...</th>\n",
       "      <th>dropoff_neighborhood = B</th>\n",
       "      <th>dropoff_neighborhood = AI</th>\n",
       "      <th>dropoff_neighborhood = AE</th>\n",
       "      <th>dropoff_neighborhood = AQ</th>\n",
       "      <th>vendor_id</th>\n",
       "      <th>pickup_neighborhoods.MEAN(trips.vendor_id)</th>\n",
       "      <th>pickup_neighborhoods.STD(trips.trip_distance)</th>\n",
       "      <th>pickup_neighborhoods.SUM(trips.passenger_count)</th>\n",
       "      <th>WEEK(pickup_datetime)</th>\n",
       "      <th>MINUTE(pickup_datetime)</th>\n",
       "    </tr>\n",
       "    <tr>\n",
       "      <th>id</th>\n",
       "      <th></th>\n",
       "      <th></th>\n",
       "      <th></th>\n",
       "      <th></th>\n",
       "      <th></th>\n",
       "      <th></th>\n",
       "      <th></th>\n",
       "      <th></th>\n",
       "      <th></th>\n",
       "      <th></th>\n",
       "      <th></th>\n",
       "      <th></th>\n",
       "      <th></th>\n",
       "      <th></th>\n",
       "      <th></th>\n",
       "      <th></th>\n",
       "      <th></th>\n",
       "      <th></th>\n",
       "      <th></th>\n",
       "      <th></th>\n",
       "      <th></th>\n",
       "    </tr>\n",
       "  </thead>\n",
       "  <tbody>\n",
       "    <tr>\n",
       "      <th>514030</th>\n",
       "      <td>1.0</td>\n",
       "      <td>1</td>\n",
       "      <td>4</td>\n",
       "      <td>1.0</td>\n",
       "      <td>2.0</td>\n",
       "      <td>603.25</td>\n",
       "      <td>0</td>\n",
       "      <td>4</td>\n",
       "      <td>1.0</td>\n",
       "      <td>6.0</td>\n",
       "      <td>...</td>\n",
       "      <td>0</td>\n",
       "      <td>0</td>\n",
       "      <td>0</td>\n",
       "      <td>0</td>\n",
       "      <td>2</td>\n",
       "      <td>1.504505</td>\n",
       "      <td>3.368966</td>\n",
       "      <td>737.0</td>\n",
       "      <td>13</td>\n",
       "      <td>0</td>\n",
       "    </tr>\n",
       "    <tr>\n",
       "      <th>514031</th>\n",
       "      <td>1.0</td>\n",
       "      <td>1</td>\n",
       "      <td>4</td>\n",
       "      <td>1.0</td>\n",
       "      <td>2.0</td>\n",
       "      <td>443.74</td>\n",
       "      <td>0</td>\n",
       "      <td>4</td>\n",
       "      <td>1.0</td>\n",
       "      <td>6.0</td>\n",
       "      <td>...</td>\n",
       "      <td>0</td>\n",
       "      <td>0</td>\n",
       "      <td>0</td>\n",
       "      <td>0</td>\n",
       "      <td>1</td>\n",
       "      <td>1.434783</td>\n",
       "      <td>2.757987</td>\n",
       "      <td>77.0</td>\n",
       "      <td>13</td>\n",
       "      <td>0</td>\n",
       "    </tr>\n",
       "    <tr>\n",
       "      <th>514032</th>\n",
       "      <td>1.0</td>\n",
       "      <td>1</td>\n",
       "      <td>4</td>\n",
       "      <td>1.0</td>\n",
       "      <td>2.0</td>\n",
       "      <td>556.44</td>\n",
       "      <td>0</td>\n",
       "      <td>4</td>\n",
       "      <td>1.0</td>\n",
       "      <td>6.0</td>\n",
       "      <td>...</td>\n",
       "      <td>0</td>\n",
       "      <td>0</td>\n",
       "      <td>0</td>\n",
       "      <td>0</td>\n",
       "      <td>1</td>\n",
       "      <td>1.548649</td>\n",
       "      <td>2.316361</td>\n",
       "      <td>650.0</td>\n",
       "      <td>13</td>\n",
       "      <td>0</td>\n",
       "    </tr>\n",
       "    <tr>\n",
       "      <th>514033</th>\n",
       "      <td>1.0</td>\n",
       "      <td>2</td>\n",
       "      <td>4</td>\n",
       "      <td>1.0</td>\n",
       "      <td>2.0</td>\n",
       "      <td>714.12</td>\n",
       "      <td>0</td>\n",
       "      <td>4</td>\n",
       "      <td>1.0</td>\n",
       "      <td>6.0</td>\n",
       "      <td>...</td>\n",
       "      <td>0</td>\n",
       "      <td>0</td>\n",
       "      <td>0</td>\n",
       "      <td>0</td>\n",
       "      <td>2</td>\n",
       "      <td>1.481572</td>\n",
       "      <td>2.428094</td>\n",
       "      <td>666.0</td>\n",
       "      <td>13</td>\n",
       "      <td>0</td>\n",
       "    </tr>\n",
       "    <tr>\n",
       "      <th>514034</th>\n",
       "      <td>1.0</td>\n",
       "      <td>1</td>\n",
       "      <td>4</td>\n",
       "      <td>1.0</td>\n",
       "      <td>2.0</td>\n",
       "      <td>661.57</td>\n",
       "      <td>0</td>\n",
       "      <td>4</td>\n",
       "      <td>1.0</td>\n",
       "      <td>6.0</td>\n",
       "      <td>...</td>\n",
       "      <td>0</td>\n",
       "      <td>0</td>\n",
       "      <td>0</td>\n",
       "      <td>0</td>\n",
       "      <td>1</td>\n",
       "      <td>1.623377</td>\n",
       "      <td>5.241291</td>\n",
       "      <td>292.0</td>\n",
       "      <td>13</td>\n",
       "      <td>1</td>\n",
       "    </tr>\n",
       "  </tbody>\n",
       "</table>\n",
       "<p>5 rows × 158 columns</p>\n",
       "</div>"
      ],
      "text/plain": [
       "        pickup_neighborhoods.MIN(trips.vendor_id)  payment_type  \\\n",
       "id                                                                \n",
       "514030                                        1.0             1   \n",
       "514031                                        1.0             1   \n",
       "514032                                        1.0             1   \n",
       "514033                                        1.0             2   \n",
       "514034                                        1.0             1   \n",
       "\n",
       "        MONTH(pickup_datetime)  \\\n",
       "id                               \n",
       "514030                       4   \n",
       "514031                       4   \n",
       "514032                       4   \n",
       "514033                       4   \n",
       "514034                       4   \n",
       "\n",
       "        pickup_neighborhoods.MIN(trips.passenger_count)  \\\n",
       "id                                                        \n",
       "514030                                              1.0   \n",
       "514031                                              1.0   \n",
       "514032                                              1.0   \n",
       "514033                                              1.0   \n",
       "514034                                              1.0   \n",
       "\n",
       "        pickup_neighborhoods.MAX(trips.vendor_id)  \\\n",
       "id                                                  \n",
       "514030                                        2.0   \n",
       "514031                                        2.0   \n",
       "514032                                        2.0   \n",
       "514033                                        2.0   \n",
       "514034                                        2.0   \n",
       "\n",
       "        dropoff_neighborhoods.SUM(trips.trip_distance)  HOUR(pickup_datetime)  \\\n",
       "id                                                                              \n",
       "514030                                          603.25                      0   \n",
       "514031                                          443.74                      0   \n",
       "514032                                          556.44                      0   \n",
       "514033                                          714.12                      0   \n",
       "514034                                          661.57                      0   \n",
       "\n",
       "        MONTH(dropoff_datetime)  \\\n",
       "id                                \n",
       "514030                        4   \n",
       "514031                        4   \n",
       "514032                        4   \n",
       "514033                        4   \n",
       "514034                        4   \n",
       "\n",
       "        dropoff_neighborhoods.MIN(trips.passenger_count)  \\\n",
       "id                                                         \n",
       "514030                                               1.0   \n",
       "514031                                               1.0   \n",
       "514032                                               1.0   \n",
       "514033                                               1.0   \n",
       "514034                                               1.0   \n",
       "\n",
       "        dropoff_neighborhoods.MAX(trips.passenger_count)  \\\n",
       "id                                                         \n",
       "514030                                               6.0   \n",
       "514031                                               6.0   \n",
       "514032                                               6.0   \n",
       "514033                                               6.0   \n",
       "514034                                               6.0   \n",
       "\n",
       "                 ...             dropoff_neighborhood = B  \\\n",
       "id               ...                                        \n",
       "514030           ...                                    0   \n",
       "514031           ...                                    0   \n",
       "514032           ...                                    0   \n",
       "514033           ...                                    0   \n",
       "514034           ...                                    0   \n",
       "\n",
       "        dropoff_neighborhood = AI  dropoff_neighborhood = AE  \\\n",
       "id                                                             \n",
       "514030                          0                          0   \n",
       "514031                          0                          0   \n",
       "514032                          0                          0   \n",
       "514033                          0                          0   \n",
       "514034                          0                          0   \n",
       "\n",
       "        dropoff_neighborhood = AQ  vendor_id  \\\n",
       "id                                             \n",
       "514030                          0          2   \n",
       "514031                          0          1   \n",
       "514032                          0          1   \n",
       "514033                          0          2   \n",
       "514034                          0          1   \n",
       "\n",
       "        pickup_neighborhoods.MEAN(trips.vendor_id)  \\\n",
       "id                                                   \n",
       "514030                                    1.504505   \n",
       "514031                                    1.434783   \n",
       "514032                                    1.548649   \n",
       "514033                                    1.481572   \n",
       "514034                                    1.623377   \n",
       "\n",
       "        pickup_neighborhoods.STD(trips.trip_distance)  \\\n",
       "id                                                      \n",
       "514030                                       3.368966   \n",
       "514031                                       2.757987   \n",
       "514032                                       2.316361   \n",
       "514033                                       2.428094   \n",
       "514034                                       5.241291   \n",
       "\n",
       "        pickup_neighborhoods.SUM(trips.passenger_count)  \\\n",
       "id                                                        \n",
       "514030                                            737.0   \n",
       "514031                                             77.0   \n",
       "514032                                            650.0   \n",
       "514033                                            666.0   \n",
       "514034                                            292.0   \n",
       "\n",
       "        WEEK(pickup_datetime)  MINUTE(pickup_datetime)  \n",
       "id                                                      \n",
       "514030                     13                        0  \n",
       "514031                     13                        0  \n",
       "514032                     13                        0  \n",
       "514033                     13                        0  \n",
       "514034                     13                        1  \n",
       "\n",
       "[5 rows x 158 columns]"
      ]
     },
     "execution_count": 41,
     "metadata": {},
     "output_type": "execute_result"
    }
   ],
   "source": [
    "# Compute feature matrix\n",
    "\n",
    "feature_matrix = compute_features(features)\n",
    "preview(feature_matrix, 5)"
   ]
  },
  {
   "cell_type": "code",
   "execution_count": 42,
   "metadata": {},
   "outputs": [],
   "source": [
    "# Re-split feature matrix\n",
    "X_train, y_train, X_test, y_test = utils.get_train_test_fm(feature_matrix, trips, .75)\n",
    "y_train = np.log(y_train + 1)\n",
    "y_test = np.log(y_test + 1)"
   ]
  },
  {
   "cell_type": "code",
   "execution_count": 43,
   "metadata": {},
   "outputs": [
    {
     "name": "stdout",
     "output_type": "stream",
     "text": [
      "      Iter       Train Loss   Remaining Time \n",
      "         1           0.4736           29.39s\n",
      "         2           0.4148           30.12s\n",
      "         3           0.3661           28.97s\n",
      "         4           0.3264           28.51s\n",
      "         5           0.2930           27.84s\n",
      "         6           0.2660           27.59s\n",
      "         7           0.2432           27.08s\n",
      "         8           0.2245           26.93s\n",
      "         9           0.2090           26.96s\n",
      "        10           0.1960           26.59s\n",
      "        20           0.1363           22.92s\n",
      "        30           0.1199           19.51s\n",
      "        40           0.1112           15.85s\n",
      "        50           0.1061           12.51s\n",
      "        60           0.1027            9.53s\n",
      "        70           0.1003            6.77s\n",
      "        80           0.0982            4.32s\n",
      "        90           0.0959            2.11s\n",
      "       100           0.0898            0.00s\n"
     ]
    },
    {
     "data": {
      "text/plain": [
       "GradientBoostingRegressor(alpha=0.9, criterion='friedman_mse', init=None,\n",
       "             learning_rate=0.1, loss='ls', max_depth=3, max_features=None,\n",
       "             max_leaf_nodes=None, min_impurity_decrease=0.0,\n",
       "             min_impurity_split=None, min_samples_leaf=1,\n",
       "             min_samples_split=2, min_weight_fraction_leaf=0.0,\n",
       "             n_estimators=100, n_iter_no_change=None, presort='auto',\n",
       "             random_state=None, subsample=1.0, tol=0.0001,\n",
       "             validation_fraction=0.1, verbose=True, warm_start=False)"
      ]
     },
     "execution_count": 43,
     "metadata": {},
     "output_type": "execute_result"
    }
   ],
   "source": [
    "# Train and score NEW model\n",
    "model = GradientBoostingRegressor(verbose=True)\n",
    "model.fit(X_train, y_train)"
   ]
  },
  {
   "cell_type": "code",
   "execution_count": 45,
   "metadata": {},
   "outputs": [
    {
     "name": "stdout",
     "output_type": "stream",
     "text": [
      "R2 train: 0.8353904141572447\n",
      "R2 test: 0.8035570879722803\n"
     ]
    }
   ],
   "source": [
    "# R squared for train and test \n",
    "\n",
    "prediction_train = model.predict(X_train)\n",
    "prediction_test = model.predict(X_test)\n",
    "\n",
    "r2_train = r2_score(y_train, prediction_train)\n",
    "r2_test = r2_score(y_test, prediction_test)\n",
    "\n",
    "print(f\"R2 train: {r2_train}\")\n",
    "print(f\"R2 test: {r2_test}\")"
   ]
  },
  {
   "cell_type": "markdown",
   "metadata": {},
   "source": [
    "# Evaluate on Test Data"
   ]
  },
  {
   "cell_type": "code",
   "execution_count": 46,
   "metadata": {},
   "outputs": [],
   "source": [
    "# Use .predict() function on your latest model to get y_pred from X_test\n",
    "prediction_test = model.predict(X_test)"
   ]
  },
  {
   "cell_type": "code",
   "execution_count": 47,
   "metadata": {},
   "outputs": [
    {
     "data": {
      "text/plain": [
       "array([6.06904781, 6.50716095, 6.48356971, ..., 6.9663538 , 6.21692273,\n",
       "       5.50778167])"
      ]
     },
     "execution_count": 47,
     "metadata": {},
     "output_type": "execute_result"
    }
   ],
   "source": [
    "# Print some of the predictions\n",
    "prediction_test"
   ]
  },
  {
   "cell_type": "code",
   "execution_count": 48,
   "metadata": {},
   "outputs": [
    {
     "data": {
      "text/plain": [
       "<matplotlib.axes._subplots.AxesSubplot at 0x7ff3b39cbef0>"
      ]
     },
     "execution_count": 48,
     "metadata": {},
     "output_type": "execute_result"
    },
    {
     "data": {
      "image/png": "[encoded data removed]",
      "text/plain": [
       "<Figure size 432x288 with 1 Axes>"
      ]
     },
     "metadata": {
      "needs_background": "light"
     },
     "output_type": "display_data"
    }
   ],
   "source": [
    "# Create histogram of predictions (this is the log(pred + 1))\n",
    "seaborn.distplot(prediction_test, kde= False, bins = 20)"
   ]
  },
  {
   "cell_type": "code",
   "execution_count": 49,
   "metadata": {},
   "outputs": [
    {
     "data": {
      "text/plain": [
       "<matplotlib.axes._subplots.AxesSubplot at 0x7ff3b39205f8>"
      ]
     },
     "execution_count": 49,
     "metadata": {},
     "output_type": "execute_result"
    },
    {
     "data": {
      "image/png": "[encoded data removed]",
      "text/plain": [
       "<Figure size 432x288 with 1 Axes>"
      ]
     },
     "metadata": {
      "needs_background": "light"
     },
     "output_type": "display_data"
    }
   ],
   "source": [
    "#to retrieve the actual prediction we get the original value\n",
    "actual_predictions = np.exp(prediction_test) - 1\n",
    "actual_true_values = np.exp(y_test) - 1\n",
    "seaborn.distplot(actual_true_values, color = \"orange\")\n",
    "seaborn.distplot(actual_predictions, color = \"blue\")"
   ]
  },
  {
   "cell_type": "markdown",
   "metadata": {},
   "source": [
    "<h1 style=\"color: red;\">QUESTION 4: MODEL PREDICTIONS</h1>"
   ]
  },
  {
   "cell_type": "markdown",
   "metadata": {},
   "source": [
    "**Analyze the model predictions. Does the output distribution match the one you made earlier in the case study? What other features/strategies could we use to make our model even better, if we had more time?**"
   ]
  },
  {
   "cell_type": "markdown",
   "metadata": {},
   "source": [
    "The distribution for the predictions look very similar to the distribution of the actual duration of the test taxi trips. Both distributions almost overlap. Also, both look rougly similar to the original distribution of the complete dataset done on the data analysis section.\n",
    "\n",
    "For a better model performance we could use hyperparameter tuning on the algorithm. We currently are training the GradientBoostingRegressor with the default parameter values but we could use grid search to find the combination that works better for our data. "
   ]
  },
  {
   "cell_type": "markdown",
   "metadata": {},
   "source": [
    "# Feature Importance"
   ]
  },
  {
   "cell_type": "code",
   "execution_count": 50,
   "metadata": {},
   "outputs": [
    {
     "name": "stdout",
     "output_type": "stream",
     "text": [
      "1: Feature: trip_distance, 0.860\n",
      "2: Feature: HOUR(pickup_datetime), 0.028\n",
      "3: Feature: dropoff_neighborhoods.longitude, 0.027\n",
      "4: Feature: dropoff_neighborhoods.latitude, 0.021\n",
      "5: Feature: HOUR(dropoff_datetime), 0.012\n",
      "6: Feature: MINUTE(dropoff_datetime), 0.008\n",
      "7: Feature: MINUTE(pickup_datetime), 0.006\n",
      "8: Feature: pickup_neighborhoods.latitude, 0.003\n",
      "9: Feature: pickup_neighborhoods.longitude, 0.003\n",
      "10: Feature: pickup_neighborhoods.SUM(trips.trip_distance), 0.003\n",
      "11: Feature: pickup_neighborhoods.COUNT(trips), 0.003\n",
      "12: Feature: dropoff_neighborhoods.COUNT(trips), 0.003\n",
      "13: Feature: pickup_neighborhoods.MEDIAN(trips.trip_distance), 0.002\n",
      "14: Feature: dropoff_neighborhoods.SUM(trips.trip_distance), 0.002\n",
      "15: Feature: dropoff_neighborhoods.SUM(trips.passenger_count), 0.001\n",
      "16: Feature: pickup_neighborhoods.MEAN(trips.trip_distance), 0.001\n",
      "17: Feature: pickup_neighborhoods.STD(trips.trip_distance), 0.001\n",
      "18: Feature: payment_type, 0.001\n",
      "19: Feature: pickup_neighborhoods.MEAN(trips.passenger_count), 0.001\n",
      "20: Feature: dropoff_neighborhood = AC, 0.001\n",
      "21: Feature: dropoff_neighborhoods.STD(trips.vendor_id), 0.001\n",
      "22: Feature: dropoff_neighborhoods.MEAN(trips.passenger_count), 0.001\n",
      "23: Feature: dropoff_neighborhoods.MAX(trips.trip_distance), 0.001\n",
      "24: Feature: dropoff_neighborhoods.SUM(trips.vendor_id), 0.001\n",
      "25: Feature: dropoff_neighborhoods.MEAN(trips.vendor_id), 0.001\n"
     ]
    }
   ],
   "source": [
    "# Compute feature importance of model\n",
    "# You can use the feature_importances function we defined for you\n",
    "# Or, see the feature_importances_ attribute of our model\n",
    "# http://scikit-learn.org/stable/modules/generated/sklearn.ensemble.GradientBoostingRegressor.html\n",
    "\n",
    "feature_importances(model, feature_matrix.columns, n=25)"
   ]
  },
  {
   "cell_type": "markdown",
   "metadata": {},
   "source": [
    "<h1 style=\"color: black;\">QUESTION 5: FEATURE IMPORTANCE</h1>"
   ]
  },
  {
   "cell_type": "markdown",
   "metadata": {},
   "source": [
    "**Analyze the feature importance values you just computed above. Do they make sense? Are there any values you are surprised by? Give some brief explanations as to why these features are relevant in computing the `trip_duration` target variable.**"
   ]
  },
  {
   "cell_type": "markdown",
   "metadata": {},
   "source": [
    "The most relevant feature with the highest importance is the trip_distance. This is completely logical because if the pickup and dropoff points are more distant, we expect it would take longer to get there, unless there is some highway in between the two spots were a longer distance may not necessarilly mean more time. Compared to the other variables, this is the crucial one. The model predictions should be decent even if we take out the rest of the variables and only predict with the distance between pickup and dropoff points.\n",
    "\n",
    "The next relevant features are related to the hour when the trip took place and the dropoff coordinates. Both of them also make sense since rush hours tend to increase trip duration because of demand and the dropoff point of the trip may be capturing some hot zones in Manhattan where traffic is heavier.\n",
    "\n",
    "Other features like the average trip distance to a particular neighborhood or the number of passengers seem to be irrelevant for the model according to their feature importance and maybe it would be a nice idea to exclude them from the analysis because they may be making our model worse instead of helping it to get better results. After all, why should a travel duration change if there is only one passenger versus two or more?"
   ]
  },
  {
   "cell_type": "markdown",
   "metadata": {},
   "source": [
    "Great job! Now, make sure you check out the **Conclusion** section of the [instruction manual](https://courses.edx.org/asset-v1:MITxPRO+DSx+2T2018+type@asset+block@6.1_instruction_manual.html) to wrap up this case study properly."
   ]
  }
 ],
 "metadata": {
  "kernelspec": {
   "display_name": "Python 3.6",
   "language": "python",
   "name": "python36"
  },
  "language_info": {
   "codemirror_mode": {
    "name": "ipython",
    "version": 3
   },
   "file_extension": ".py",
   "mimetype": "text/x-python",
   "name": "python",
   "nbconvert_exporter": "python",
   "pygments_lexer": "ipython3",
   "version": "3.6.6"
  }
 },
 "nbformat": 4,
 "nbformat_minor": 2
}
